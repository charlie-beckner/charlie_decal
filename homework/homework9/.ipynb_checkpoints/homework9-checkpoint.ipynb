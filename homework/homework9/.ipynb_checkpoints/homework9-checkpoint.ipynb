{
 "cells": [
  {
   "cell_type": "code",
   "execution_count": 523,
   "id": "ab362984-a5a4-424f-9f99-55f69b75c70b",
   "metadata": {},
   "outputs": [],
   "source": [
    "import numpy as np\n",
    "import pandas as pd\n",
    "import matplotlib.pyplot as plt\n",
    "import scipy.optimize as fit\n",
    "from astropy.table import Table"
   ]
  },
  {
   "cell_type": "code",
   "execution_count": 524,
   "id": "ccc10c93-a3de-4b87-b9e6-9d17349ddd87",
   "metadata": {},
   "outputs": [
    {
     "data": {
      "text/html": [
       "<div>\n",
       "<style scoped>\n",
       "    .dataframe tbody tr th:only-of-type {\n",
       "        vertical-align: middle;\n",
       "    }\n",
       "\n",
       "    .dataframe tbody tr th {\n",
       "        vertical-align: top;\n",
       "    }\n",
       "\n",
       "    .dataframe thead th {\n",
       "        text-align: right;\n",
       "    }\n",
       "</style>\n",
       "<table border=\"1\" class=\"dataframe\">\n",
       "  <thead>\n",
       "    <tr style=\"text-align: right;\">\n",
       "      <th></th>\n",
       "      <th>dt</th>\n",
       "      <th>AverageTemperature</th>\n",
       "      <th>AverageTemperatureUncertainty</th>\n",
       "      <th>State</th>\n",
       "      <th>Country</th>\n",
       "    </tr>\n",
       "  </thead>\n",
       "  <tbody>\n",
       "    <tr>\n",
       "      <th>0</th>\n",
       "      <td>1855-05-01</td>\n",
       "      <td>25.544</td>\n",
       "      <td>1.171</td>\n",
       "      <td>Acre</td>\n",
       "      <td>Brazil</td>\n",
       "    </tr>\n",
       "    <tr>\n",
       "      <th>1</th>\n",
       "      <td>1855-06-01</td>\n",
       "      <td>24.228</td>\n",
       "      <td>1.103</td>\n",
       "      <td>Acre</td>\n",
       "      <td>Brazil</td>\n",
       "    </tr>\n",
       "    <tr>\n",
       "      <th>2</th>\n",
       "      <td>1855-07-01</td>\n",
       "      <td>24.371</td>\n",
       "      <td>1.044</td>\n",
       "      <td>Acre</td>\n",
       "      <td>Brazil</td>\n",
       "    </tr>\n",
       "    <tr>\n",
       "      <th>3</th>\n",
       "      <td>1855-08-01</td>\n",
       "      <td>25.427</td>\n",
       "      <td>1.073</td>\n",
       "      <td>Acre</td>\n",
       "      <td>Brazil</td>\n",
       "    </tr>\n",
       "    <tr>\n",
       "      <th>4</th>\n",
       "      <td>1855-09-01</td>\n",
       "      <td>25.675</td>\n",
       "      <td>1.014</td>\n",
       "      <td>Acre</td>\n",
       "      <td>Brazil</td>\n",
       "    </tr>\n",
       "    <tr>\n",
       "      <th>...</th>\n",
       "      <td>...</td>\n",
       "      <td>...</td>\n",
       "      <td>...</td>\n",
       "      <td>...</td>\n",
       "      <td>...</td>\n",
       "    </tr>\n",
       "    <tr>\n",
       "      <th>645670</th>\n",
       "      <td>2013-05-01</td>\n",
       "      <td>21.634</td>\n",
       "      <td>0.578</td>\n",
       "      <td>Zhejiang</td>\n",
       "      <td>China</td>\n",
       "    </tr>\n",
       "    <tr>\n",
       "      <th>645671</th>\n",
       "      <td>2013-06-01</td>\n",
       "      <td>24.679</td>\n",
       "      <td>0.596</td>\n",
       "      <td>Zhejiang</td>\n",
       "      <td>China</td>\n",
       "    </tr>\n",
       "    <tr>\n",
       "      <th>645672</th>\n",
       "      <td>2013-07-01</td>\n",
       "      <td>29.272</td>\n",
       "      <td>1.340</td>\n",
       "      <td>Zhejiang</td>\n",
       "      <td>China</td>\n",
       "    </tr>\n",
       "    <tr>\n",
       "      <th>645673</th>\n",
       "      <td>2013-08-01</td>\n",
       "      <td>29.202</td>\n",
       "      <td>0.869</td>\n",
       "      <td>Zhejiang</td>\n",
       "      <td>China</td>\n",
       "    </tr>\n",
       "    <tr>\n",
       "      <th>645674</th>\n",
       "      <td>2013-09-01</td>\n",
       "      <td>NaN</td>\n",
       "      <td>NaN</td>\n",
       "      <td>Zhejiang</td>\n",
       "      <td>China</td>\n",
       "    </tr>\n",
       "  </tbody>\n",
       "</table>\n",
       "<p>645675 rows × 5 columns</p>\n",
       "</div>"
      ],
      "text/plain": [
       "                dt  AverageTemperature  AverageTemperatureUncertainty  \\\n",
       "0       1855-05-01              25.544                          1.171   \n",
       "1       1855-06-01              24.228                          1.103   \n",
       "2       1855-07-01              24.371                          1.044   \n",
       "3       1855-08-01              25.427                          1.073   \n",
       "4       1855-09-01              25.675                          1.014   \n",
       "...            ...                 ...                            ...   \n",
       "645670  2013-05-01              21.634                          0.578   \n",
       "645671  2013-06-01              24.679                          0.596   \n",
       "645672  2013-07-01              29.272                          1.340   \n",
       "645673  2013-08-01              29.202                          0.869   \n",
       "645674  2013-09-01                 NaN                            NaN   \n",
       "\n",
       "           State Country  \n",
       "0           Acre  Brazil  \n",
       "1           Acre  Brazil  \n",
       "2           Acre  Brazil  \n",
       "3           Acre  Brazil  \n",
       "4           Acre  Brazil  \n",
       "...          ...     ...  \n",
       "645670  Zhejiang   China  \n",
       "645671  Zhejiang   China  \n",
       "645672  Zhejiang   China  \n",
       "645673  Zhejiang   China  \n",
       "645674  Zhejiang   China  \n",
       "\n",
       "[645675 rows x 5 columns]"
      ]
     },
     "execution_count": 524,
     "metadata": {},
     "output_type": "execute_result"
    }
   ],
   "source": [
    "df = pd.read_csv(\"GlobalLandTemperaturesByState.csv\")\n",
    "df"
   ]
  },
  {
   "cell_type": "code",
   "execution_count": 525,
   "id": "d80a9f28-6300-4523-a485-c455518592d2",
   "metadata": {},
   "outputs": [
    {
     "data": {
      "text/html": [
       "<div>\n",
       "<style scoped>\n",
       "    .dataframe tbody tr th:only-of-type {\n",
       "        vertical-align: middle;\n",
       "    }\n",
       "\n",
       "    .dataframe tbody tr th {\n",
       "        vertical-align: top;\n",
       "    }\n",
       "\n",
       "    .dataframe thead th {\n",
       "        text-align: right;\n",
       "    }\n",
       "</style>\n",
       "<table border=\"1\" class=\"dataframe\">\n",
       "  <thead>\n",
       "    <tr style=\"text-align: right;\">\n",
       "      <th></th>\n",
       "      <th>dt</th>\n",
       "      <th>AverageTemperature</th>\n",
       "      <th>State</th>\n",
       "    </tr>\n",
       "  </thead>\n",
       "  <tbody>\n",
       "    <tr>\n",
       "      <th>1736</th>\n",
       "      <td>2000-01-01</td>\n",
       "      <td>25.934</td>\n",
       "      <td>Acre</td>\n",
       "    </tr>\n",
       "    <tr>\n",
       "      <th>1737</th>\n",
       "      <td>2000-02-01</td>\n",
       "      <td>26.102</td>\n",
       "      <td>Acre</td>\n",
       "    </tr>\n",
       "    <tr>\n",
       "      <th>1738</th>\n",
       "      <td>2000-03-01</td>\n",
       "      <td>26.107</td>\n",
       "      <td>Acre</td>\n",
       "    </tr>\n",
       "    <tr>\n",
       "      <th>1739</th>\n",
       "      <td>2000-04-01</td>\n",
       "      <td>25.952</td>\n",
       "      <td>Acre</td>\n",
       "    </tr>\n",
       "    <tr>\n",
       "      <th>1740</th>\n",
       "      <td>2000-05-01</td>\n",
       "      <td>25.832</td>\n",
       "      <td>Acre</td>\n",
       "    </tr>\n",
       "    <tr>\n",
       "      <th>...</th>\n",
       "      <td>...</td>\n",
       "      <td>...</td>\n",
       "      <td>...</td>\n",
       "    </tr>\n",
       "    <tr>\n",
       "      <th>645670</th>\n",
       "      <td>2013-05-01</td>\n",
       "      <td>21.634</td>\n",
       "      <td>Zhejiang</td>\n",
       "    </tr>\n",
       "    <tr>\n",
       "      <th>645671</th>\n",
       "      <td>2013-06-01</td>\n",
       "      <td>24.679</td>\n",
       "      <td>Zhejiang</td>\n",
       "    </tr>\n",
       "    <tr>\n",
       "      <th>645672</th>\n",
       "      <td>2013-07-01</td>\n",
       "      <td>29.272</td>\n",
       "      <td>Zhejiang</td>\n",
       "    </tr>\n",
       "    <tr>\n",
       "      <th>645673</th>\n",
       "      <td>2013-08-01</td>\n",
       "      <td>29.202</td>\n",
       "      <td>Zhejiang</td>\n",
       "    </tr>\n",
       "    <tr>\n",
       "      <th>645674</th>\n",
       "      <td>2013-09-01</td>\n",
       "      <td>NaN</td>\n",
       "      <td>Zhejiang</td>\n",
       "    </tr>\n",
       "  </tbody>\n",
       "</table>\n",
       "<p>39765 rows × 3 columns</p>\n",
       "</div>"
      ],
      "text/plain": [
       "                dt  AverageTemperature     State\n",
       "1736    2000-01-01              25.934      Acre\n",
       "1737    2000-02-01              26.102      Acre\n",
       "1738    2000-03-01              26.107      Acre\n",
       "1739    2000-04-01              25.952      Acre\n",
       "1740    2000-05-01              25.832      Acre\n",
       "...            ...                 ...       ...\n",
       "645670  2013-05-01              21.634  Zhejiang\n",
       "645671  2013-06-01              24.679  Zhejiang\n",
       "645672  2013-07-01              29.272  Zhejiang\n",
       "645673  2013-08-01              29.202  Zhejiang\n",
       "645674  2013-09-01                 NaN  Zhejiang\n",
       "\n",
       "[39765 rows x 3 columns]"
      ]
     },
     "execution_count": 525,
     "metadata": {},
     "output_type": "execute_result"
    }
   ],
   "source": [
    "df_2000s = df[[\"dt\", \"AverageTemperature\", \"State\"]].loc[df[\"dt\"] >= \"2000-01-01\"]\n",
    "df_2000s"
   ]
  },
  {
   "cell_type": "code",
   "execution_count": 526,
   "id": "df6b2e87-3b28-4337-8642-25ada86a8085",
   "metadata": {},
   "outputs": [],
   "source": [
    "dates = pd.to_datetime(df_2000s[\"dt\"])\n",
    "df_2000s[\"dt\"] = dates"
   ]
  },
  {
   "cell_type": "code",
   "execution_count": 527,
   "id": "ac2a0f6f-6697-47a4-9636-279cf7912db2",
   "metadata": {},
   "outputs": [
    {
     "data": {
      "text/html": [
       "<div>\n",
       "<style scoped>\n",
       "    .dataframe tbody tr th:only-of-type {\n",
       "        vertical-align: middle;\n",
       "    }\n",
       "\n",
       "    .dataframe tbody tr th {\n",
       "        vertical-align: top;\n",
       "    }\n",
       "\n",
       "    .dataframe thead th {\n",
       "        text-align: right;\n",
       "    }\n",
       "</style>\n",
       "<table border=\"1\" class=\"dataframe\">\n",
       "  <thead>\n",
       "    <tr style=\"text-align: right;\">\n",
       "      <th></th>\n",
       "      <th>dt</th>\n",
       "      <th>AverageTemperature</th>\n",
       "      <th>State</th>\n",
       "    </tr>\n",
       "  </thead>\n",
       "  <tbody>\n",
       "    <tr>\n",
       "      <th>1736</th>\n",
       "      <td>2000-01-01</td>\n",
       "      <td>25.934</td>\n",
       "      <td>Acre</td>\n",
       "    </tr>\n",
       "    <tr>\n",
       "      <th>1737</th>\n",
       "      <td>2000-02-01</td>\n",
       "      <td>26.102</td>\n",
       "      <td>Acre</td>\n",
       "    </tr>\n",
       "    <tr>\n",
       "      <th>1738</th>\n",
       "      <td>2000-03-01</td>\n",
       "      <td>26.107</td>\n",
       "      <td>Acre</td>\n",
       "    </tr>\n",
       "    <tr>\n",
       "      <th>1739</th>\n",
       "      <td>2000-04-01</td>\n",
       "      <td>25.952</td>\n",
       "      <td>Acre</td>\n",
       "    </tr>\n",
       "    <tr>\n",
       "      <th>1740</th>\n",
       "      <td>2000-05-01</td>\n",
       "      <td>25.832</td>\n",
       "      <td>Acre</td>\n",
       "    </tr>\n",
       "    <tr>\n",
       "      <th>...</th>\n",
       "      <td>...</td>\n",
       "      <td>...</td>\n",
       "      <td>...</td>\n",
       "    </tr>\n",
       "    <tr>\n",
       "      <th>645670</th>\n",
       "      <td>2013-05-01</td>\n",
       "      <td>21.634</td>\n",
       "      <td>Zhejiang</td>\n",
       "    </tr>\n",
       "    <tr>\n",
       "      <th>645671</th>\n",
       "      <td>2013-06-01</td>\n",
       "      <td>24.679</td>\n",
       "      <td>Zhejiang</td>\n",
       "    </tr>\n",
       "    <tr>\n",
       "      <th>645672</th>\n",
       "      <td>2013-07-01</td>\n",
       "      <td>29.272</td>\n",
       "      <td>Zhejiang</td>\n",
       "    </tr>\n",
       "    <tr>\n",
       "      <th>645673</th>\n",
       "      <td>2013-08-01</td>\n",
       "      <td>29.202</td>\n",
       "      <td>Zhejiang</td>\n",
       "    </tr>\n",
       "    <tr>\n",
       "      <th>645674</th>\n",
       "      <td>2013-09-01</td>\n",
       "      <td>NaN</td>\n",
       "      <td>Zhejiang</td>\n",
       "    </tr>\n",
       "  </tbody>\n",
       "</table>\n",
       "<p>39765 rows × 3 columns</p>\n",
       "</div>"
      ],
      "text/plain": [
       "               dt  AverageTemperature     State\n",
       "1736   2000-01-01              25.934      Acre\n",
       "1737   2000-02-01              26.102      Acre\n",
       "1738   2000-03-01              26.107      Acre\n",
       "1739   2000-04-01              25.952      Acre\n",
       "1740   2000-05-01              25.832      Acre\n",
       "...           ...                 ...       ...\n",
       "645670 2013-05-01              21.634  Zhejiang\n",
       "645671 2013-06-01              24.679  Zhejiang\n",
       "645672 2013-07-01              29.272  Zhejiang\n",
       "645673 2013-08-01              29.202  Zhejiang\n",
       "645674 2013-09-01                 NaN  Zhejiang\n",
       "\n",
       "[39765 rows x 3 columns]"
      ]
     },
     "execution_count": 527,
     "metadata": {},
     "output_type": "execute_result"
    }
   ],
   "source": [
    "df_2000s"
   ]
  },
  {
   "cell_type": "code",
   "execution_count": 528,
   "id": "afe5a55e-1db9-4d29-ac00-26ced02658fa",
   "metadata": {},
   "outputs": [
    {
     "data": {
      "text/html": [
       "<div>\n",
       "<style scoped>\n",
       "    .dataframe tbody tr th:only-of-type {\n",
       "        vertical-align: middle;\n",
       "    }\n",
       "\n",
       "    .dataframe tbody tr th {\n",
       "        vertical-align: top;\n",
       "    }\n",
       "\n",
       "    .dataframe thead th {\n",
       "        text-align: right;\n",
       "    }\n",
       "</style>\n",
       "<table border=\"1\" class=\"dataframe\">\n",
       "  <thead>\n",
       "    <tr style=\"text-align: right;\">\n",
       "      <th></th>\n",
       "      <th>dt</th>\n",
       "      <th>AverageTemperature</th>\n",
       "      <th>State</th>\n",
       "    </tr>\n",
       "  </thead>\n",
       "  <tbody>\n",
       "    <tr>\n",
       "      <th>350761</th>\n",
       "      <td>2000-01-01</td>\n",
       "      <td>-2.024</td>\n",
       "      <td>Nebraska</td>\n",
       "    </tr>\n",
       "    <tr>\n",
       "      <th>350762</th>\n",
       "      <td>2000-02-01</td>\n",
       "      <td>1.719</td>\n",
       "      <td>Nebraska</td>\n",
       "    </tr>\n",
       "    <tr>\n",
       "      <th>350763</th>\n",
       "      <td>2000-03-01</td>\n",
       "      <td>5.687</td>\n",
       "      <td>Nebraska</td>\n",
       "    </tr>\n",
       "    <tr>\n",
       "      <th>350764</th>\n",
       "      <td>2000-04-01</td>\n",
       "      <td>9.417</td>\n",
       "      <td>Nebraska</td>\n",
       "    </tr>\n",
       "    <tr>\n",
       "      <th>350765</th>\n",
       "      <td>2000-05-01</td>\n",
       "      <td>16.827</td>\n",
       "      <td>Nebraska</td>\n",
       "    </tr>\n",
       "    <tr>\n",
       "      <th>...</th>\n",
       "      <td>...</td>\n",
       "      <td>...</td>\n",
       "      <td>...</td>\n",
       "    </tr>\n",
       "    <tr>\n",
       "      <th>626435</th>\n",
       "      <td>2013-05-01</td>\n",
       "      <td>10.607</td>\n",
       "      <td>Wyoming</td>\n",
       "    </tr>\n",
       "    <tr>\n",
       "      <th>626436</th>\n",
       "      <td>2013-06-01</td>\n",
       "      <td>16.267</td>\n",
       "      <td>Wyoming</td>\n",
       "    </tr>\n",
       "    <tr>\n",
       "      <th>626437</th>\n",
       "      <td>2013-07-01</td>\n",
       "      <td>20.222</td>\n",
       "      <td>Wyoming</td>\n",
       "    </tr>\n",
       "    <tr>\n",
       "      <th>626438</th>\n",
       "      <td>2013-08-01</td>\n",
       "      <td>19.621</td>\n",
       "      <td>Wyoming</td>\n",
       "    </tr>\n",
       "    <tr>\n",
       "      <th>626439</th>\n",
       "      <td>2013-09-01</td>\n",
       "      <td>15.811</td>\n",
       "      <td>Wyoming</td>\n",
       "    </tr>\n",
       "  </tbody>\n",
       "</table>\n",
       "<p>495 rows × 3 columns</p>\n",
       "</div>"
      ],
      "text/plain": [
       "               dt  AverageTemperature     State\n",
       "350761 2000-01-01              -2.024  Nebraska\n",
       "350762 2000-02-01               1.719  Nebraska\n",
       "350763 2000-03-01               5.687  Nebraska\n",
       "350764 2000-04-01               9.417  Nebraska\n",
       "350765 2000-05-01              16.827  Nebraska\n",
       "...           ...                 ...       ...\n",
       "626435 2013-05-01              10.607   Wyoming\n",
       "626436 2013-06-01              16.267   Wyoming\n",
       "626437 2013-07-01              20.222   Wyoming\n",
       "626438 2013-08-01              19.621   Wyoming\n",
       "626439 2013-09-01              15.811   Wyoming\n",
       "\n",
       "[495 rows x 3 columns]"
      ]
     },
     "execution_count": 528,
     "metadata": {},
     "output_type": "execute_result"
    }
   ],
   "source": [
    "filtered_df_temps = df_2000s.loc[df_2000s[\"State\"].isin([\"Wyoming\", \"Nebraska\", \"South Dakota\"])]\n",
    "filtered_df_temps"
   ]
  },
  {
   "cell_type": "code",
   "execution_count": 529,
   "id": "0f00b30b-89d3-4b45-8f5e-d880af943a3d",
   "metadata": {},
   "outputs": [
    {
     "data": {
      "text/html": [
       "<div>\n",
       "<style scoped>\n",
       "    .dataframe tbody tr th:only-of-type {\n",
       "        vertical-align: middle;\n",
       "    }\n",
       "\n",
       "    .dataframe tbody tr th {\n",
       "        vertical-align: top;\n",
       "    }\n",
       "\n",
       "    .dataframe thead th {\n",
       "        text-align: right;\n",
       "    }\n",
       "</style>\n",
       "<table border=\"1\" class=\"dataframe\">\n",
       "  <thead>\n",
       "    <tr style=\"text-align: right;\">\n",
       "      <th></th>\n",
       "      <th>dt</th>\n",
       "      <th>Average_Temperature</th>\n",
       "    </tr>\n",
       "  </thead>\n",
       "  <tbody>\n",
       "    <tr>\n",
       "      <th>0</th>\n",
       "      <td>2000-01-01</td>\n",
       "      <td>-4.072000</td>\n",
       "    </tr>\n",
       "    <tr>\n",
       "      <th>1</th>\n",
       "      <td>2000-02-01</td>\n",
       "      <td>-0.205000</td>\n",
       "    </tr>\n",
       "    <tr>\n",
       "      <th>2</th>\n",
       "      <td>2000-03-01</td>\n",
       "      <td>3.642667</td>\n",
       "    </tr>\n",
       "    <tr>\n",
       "      <th>3</th>\n",
       "      <td>2000-04-01</td>\n",
       "      <td>7.609667</td>\n",
       "    </tr>\n",
       "    <tr>\n",
       "      <th>4</th>\n",
       "      <td>2000-05-01</td>\n",
       "      <td>14.255000</td>\n",
       "    </tr>\n",
       "    <tr>\n",
       "      <th>...</th>\n",
       "      <td>...</td>\n",
       "      <td>...</td>\n",
       "    </tr>\n",
       "    <tr>\n",
       "      <th>160</th>\n",
       "      <td>2013-05-01</td>\n",
       "      <td>13.196000</td>\n",
       "    </tr>\n",
       "    <tr>\n",
       "      <th>161</th>\n",
       "      <td>2013-06-01</td>\n",
       "      <td>18.783667</td>\n",
       "    </tr>\n",
       "    <tr>\n",
       "      <th>162</th>\n",
       "      <td>2013-07-01</td>\n",
       "      <td>22.110333</td>\n",
       "    </tr>\n",
       "    <tr>\n",
       "      <th>163</th>\n",
       "      <td>2013-08-01</td>\n",
       "      <td>21.890000</td>\n",
       "    </tr>\n",
       "    <tr>\n",
       "      <th>164</th>\n",
       "      <td>2013-09-01</td>\n",
       "      <td>18.953000</td>\n",
       "    </tr>\n",
       "  </tbody>\n",
       "</table>\n",
       "<p>165 rows × 2 columns</p>\n",
       "</div>"
      ],
      "text/plain": [
       "            dt  Average_Temperature\n",
       "0   2000-01-01            -4.072000\n",
       "1   2000-02-01            -0.205000\n",
       "2   2000-03-01             3.642667\n",
       "3   2000-04-01             7.609667\n",
       "4   2000-05-01            14.255000\n",
       "..         ...                  ...\n",
       "160 2013-05-01            13.196000\n",
       "161 2013-06-01            18.783667\n",
       "162 2013-07-01            22.110333\n",
       "163 2013-08-01            21.890000\n",
       "164 2013-09-01            18.953000\n",
       "\n",
       "[165 rows x 2 columns]"
      ]
     },
     "execution_count": 529,
     "metadata": {},
     "output_type": "execute_result"
    }
   ],
   "source": [
    "df_by_date = filtered_df_temps.groupby(\"dt\", as_index=False).agg(Average_Temperature = (\"AverageTemperature\", \"mean\"))\n",
    "df_by_date"
   ]
  },
  {
   "cell_type": "code",
   "execution_count": 530,
   "id": "ab07c25a-6c36-49af-88bc-2b3128703bd6",
   "metadata": {},
   "outputs": [
    {
     "data": {
      "text/plain": [
       "Text(0, 0.5, 'Average Temperature')"
      ]
     },
     "execution_count": 530,
     "metadata": {},
     "output_type": "execute_result"
    },
    {
     "data": {
      "image/png": "[encoded data removed]",
      "text/plain": [
       "<Figure size 1000x100 with 1 Axes>"
      ]
     },
     "metadata": {},
     "output_type": "display_data"
    }
   ],
   "source": [
    "plt.figure(figsize=(10,1))\n",
    "plt.scatter(df_by_date[\"dt\"], df_by_date[\"Average_Temperature\"])\n",
    "plt.title(\"Average Temperature Over Time\")\n",
    "plt.xlabel(\"Date\")\n",
    "plt.ylabel(\"Average Temperature\")"
   ]
  },
  {
   "cell_type": "code",
   "execution_count": 531,
   "id": "ea554d30-dcc0-4d95-b749-4154430e3bcd",
   "metadata": {},
   "outputs": [
    {
     "data": {
      "text/html": [
       "<div>\n",
       "<style scoped>\n",
       "    .dataframe tbody tr th:only-of-type {\n",
       "        vertical-align: middle;\n",
       "    }\n",
       "\n",
       "    .dataframe tbody tr th {\n",
       "        vertical-align: top;\n",
       "    }\n",
       "\n",
       "    .dataframe thead th {\n",
       "        text-align: right;\n",
       "    }\n",
       "</style>\n",
       "<table border=\"1\" class=\"dataframe\">\n",
       "  <thead>\n",
       "    <tr style=\"text-align: right;\">\n",
       "      <th></th>\n",
       "      <th>dt</th>\n",
       "      <th>Average_Temperature</th>\n",
       "    </tr>\n",
       "  </thead>\n",
       "  <tbody>\n",
       "    <tr>\n",
       "      <th>0</th>\n",
       "      <td>2000.000000</td>\n",
       "      <td>-4.072000</td>\n",
       "    </tr>\n",
       "    <tr>\n",
       "      <th>1</th>\n",
       "      <td>2000.084873</td>\n",
       "      <td>-0.205000</td>\n",
       "    </tr>\n",
       "    <tr>\n",
       "      <th>2</th>\n",
       "      <td>2000.164271</td>\n",
       "      <td>3.642667</td>\n",
       "    </tr>\n",
       "    <tr>\n",
       "      <th>3</th>\n",
       "      <td>2000.249144</td>\n",
       "      <td>7.609667</td>\n",
       "    </tr>\n",
       "    <tr>\n",
       "      <th>4</th>\n",
       "      <td>2000.331280</td>\n",
       "      <td>14.255000</td>\n",
       "    </tr>\n",
       "    <tr>\n",
       "      <th>...</th>\n",
       "      <td>...</td>\n",
       "      <td>...</td>\n",
       "    </tr>\n",
       "    <tr>\n",
       "      <th>160</th>\n",
       "      <td>2013.330595</td>\n",
       "      <td>13.196000</td>\n",
       "    </tr>\n",
       "    <tr>\n",
       "      <th>161</th>\n",
       "      <td>2013.415469</td>\n",
       "      <td>18.783667</td>\n",
       "    </tr>\n",
       "    <tr>\n",
       "      <th>162</th>\n",
       "      <td>2013.497604</td>\n",
       "      <td>22.110333</td>\n",
       "    </tr>\n",
       "    <tr>\n",
       "      <th>163</th>\n",
       "      <td>2013.582478</td>\n",
       "      <td>21.890000</td>\n",
       "    </tr>\n",
       "    <tr>\n",
       "      <th>164</th>\n",
       "      <td>2013.667351</td>\n",
       "      <td>18.953000</td>\n",
       "    </tr>\n",
       "  </tbody>\n",
       "</table>\n",
       "<p>165 rows × 2 columns</p>\n",
       "</div>"
      ],
      "text/plain": [
       "              dt  Average_Temperature\n",
       "0    2000.000000            -4.072000\n",
       "1    2000.084873            -0.205000\n",
       "2    2000.164271             3.642667\n",
       "3    2000.249144             7.609667\n",
       "4    2000.331280            14.255000\n",
       "..           ...                  ...\n",
       "160  2013.330595            13.196000\n",
       "161  2013.415469            18.783667\n",
       "162  2013.497604            22.110333\n",
       "163  2013.582478            21.890000\n",
       "164  2013.667351            18.953000\n",
       "\n",
       "[165 rows x 2 columns]"
      ]
     },
     "execution_count": 531,
     "metadata": {},
     "output_type": "execute_result"
    }
   ],
   "source": [
    "df_temps = df_by_date.copy()\n",
    "df_temps[\"dt\"] = ((df_temps[\"dt\"] - df_temps[\"dt\"].min()).dt.total_seconds() / (365.25 * 24 * 3600))+2000\n",
    "time = df_temps[\"dt\"]\n",
    "temps = df_temps[\"Average_Temperature\"]\n",
    "df_temps"
   ]
  },
  {
   "cell_type": "code",
   "execution_count": 532,
   "id": "8d65c990-fbc3-4e79-9b2c-638901105a19",
   "metadata": {},
   "outputs": [],
   "source": [
    "def sine(x, amplitude, frequency, phase, vert_shift):\n",
    "    return amplitude * np.sin(2 * np.pi * frequency * x + phase) + vert_shift\n",
    "\n",
    "p0 = [15, 1, -1.5, 8]\n",
    "\n",
    "params, cov = fit.curve_fit(sine, time, temps, p0)"
   ]
  },
  {
   "cell_type": "code",
   "execution_count": 533,
   "id": "c6026c1b-a51f-4b36-b955-597d87fd7144",
   "metadata": {},
   "outputs": [
    {
     "data": {
      "text/plain": [
       "[<matplotlib.lines.Line2D at 0x1682e54c0>]"
      ]
     },
     "execution_count": 533,
     "metadata": {},
     "output_type": "execute_result"
    },
    {
     "data": {
      "image/png": "[encoded data removed]",
      "text/plain": [
       "<Figure size 1000x100 with 1 Axes>"
      ]
     },
     "metadata": {},
     "output_type": "display_data"
    }
   ],
   "source": [
    "plt.figure(figsize=(10,1))\n",
    "plt.scatter(time, temps)\n",
    "plt.plot(time, sine(time, *p0), color=\"red\")"
   ]
  },
  {
   "cell_type": "code",
   "execution_count": 534,
   "id": "c87fbe3f-810e-43b7-8982-de4f0fef5598",
   "metadata": {},
   "outputs": [],
   "source": [
    "amp = str(np.round(params[0], 2))\n",
    "freq = str(np.round(params[1], 2))\n",
    "phase = str(np.round(params[2], 2))\n",
    "shift = str(np.round(params[3], 2))\n",
    "\n",
    "amp_error = str(np.round(cov[0,0], 2))\n",
    "freq_error = str(np.round(cov[1,1], 2))\n",
    "phase_error = str(np.round(cov[2,2], 2))\n",
    "shift_error = str(np.round(cov[3,3], 2))"
   ]
  },
  {
   "cell_type": "code",
   "execution_count": 535,
   "id": "0291d8e5-33c0-4bb9-99cd-c3e502c936b3",
   "metadata": {},
   "outputs": [
    {
     "name": "stdout",
     "output_type": "stream",
     "text": [
      "Amplitude = 13.92 ±0.05\n",
      "Frequency = 1.0 ±0.0\n",
      "Phase = 5.97 ±69.13\n",
      "Vertical Shift = 8.17 ±0.03\n"
     ]
    }
   ],
   "source": [
    "print(\"Amplitude =\", amp, \"±\" + amp_error)\n",
    "print(\"Frequency =\", freq, \"±\" + freq_error)\n",
    "print(\"Phase =\", phase, \"±\" + phase_error)\n",
    "print(\"Vertical Shift =\", shift, \"±\" + shift_error)"
   ]
  },
  {
   "cell_type": "code",
   "execution_count": 536,
   "id": "9564456f-b0eb-49a8-8d9d-8155a5d7177d",
   "metadata": {},
   "outputs": [
    {
     "name": "stdout",
     "output_type": "stream",
     "text": [
      "y = 13.92 * sin(1.0x + 5.97) + 8.17\n"
     ]
    }
   ],
   "source": [
    "print(\"y =\", amp, \"* sin(\" + freq + \"x +\", phase + \") + \" + shift)"
   ]
  },
  {
   "cell_type": "markdown",
   "id": "d38505df-fdd2-4b29-9232-ed2e9cb6a0fe",
   "metadata": {},
   "source": [
    "***"
   ]
  },
  {
   "cell_type": "code",
   "execution_count": 538,
   "id": "0ed6b1ac-4864-419f-91f5-049f74720c91",
   "metadata": {},
   "outputs": [],
   "source": [
    "table = Table.read(\"global_CCl4_MM.dat\", format = \"ascii\")"
   ]
  },
  {
   "cell_type": "code",
   "execution_count": 539,
   "id": "92d5ed79-d082-4004-a9bf-0245e20767e7",
   "metadata": {},
   "outputs": [
    {
     "data": {
      "text/html": [
       "<div><i>Table length=288</i>\n",
       "<table id=\"table5769894304\" class=\"table-striped table-bordered table-condensed\">\n",
       "<thead><tr><th>CCl4ottoyr</th><th>CCl4ottomon</th><th>CCl4ottoNHm</th><th>CCl4ottoNHsd</th><th>CCl4ottoSHm</th><th>CCl4ottoSHsd</th><th>CCl4ottoGLm</th><th>CCl4ottoGLsd</th></tr></thead>\n",
       "<thead><tr><th>int64</th><th>int64</th><th>float64</th><th>float64</th><th>float64</th><th>float64</th><th>float64</th><th>float64</th></tr></thead>\n",
       "<tr><td>1996</td><td>1</td><td>nan</td><td>nan</td><td>nan</td><td>nan</td><td>nan</td><td>nan</td></tr>\n",
       "<tr><td>1996</td><td>2</td><td>nan</td><td>nan</td><td>nan</td><td>nan</td><td>nan</td><td>nan</td></tr>\n",
       "<tr><td>1996</td><td>3</td><td>nan</td><td>nan</td><td>nan</td><td>nan</td><td>nan</td><td>nan</td></tr>\n",
       "<tr><td>1996</td><td>4</td><td>105.318</td><td>0.197</td><td>102.969</td><td>0.238</td><td>104.144</td><td>0.155</td></tr>\n",
       "<tr><td>1996</td><td>5</td><td>105.032</td><td>0.193</td><td>102.754</td><td>0.287</td><td>103.893</td><td>0.174</td></tr>\n",
       "<tr><td>1996</td><td>6</td><td>105.327</td><td>0.277</td><td>103.086</td><td>0.273</td><td>104.207</td><td>0.191</td></tr>\n",
       "<tr><td>1996</td><td>7</td><td>105.25</td><td>0.171</td><td>103.021</td><td>0.233</td><td>104.136</td><td>0.147</td></tr>\n",
       "<tr><td>1996</td><td>8</td><td>104.855</td><td>0.239</td><td>102.817</td><td>0.213</td><td>103.836</td><td>0.161</td></tr>\n",
       "<tr><td>1996</td><td>9</td><td>104.909</td><td>0.248</td><td>102.813</td><td>0.441</td><td>103.861</td><td>0.254</td></tr>\n",
       "<tr><td>...</td><td>...</td><td>...</td><td>...</td><td>...</td><td>...</td><td>...</td><td>...</td></tr>\n",
       "<tr><td>2019</td><td>3</td><td>79.779</td><td>0.24</td><td>78.238</td><td>0.317</td><td>79.008</td><td>0.199</td></tr>\n",
       "<tr><td>2019</td><td>4</td><td>79.287</td><td>0.207</td><td>77.96</td><td>0.209</td><td>78.623</td><td>0.149</td></tr>\n",
       "<tr><td>2019</td><td>5</td><td>79.503</td><td>0.241</td><td>78.22</td><td>0.374</td><td>78.862</td><td>0.226</td></tr>\n",
       "<tr><td>2019</td><td>6</td><td>79.279</td><td>0.216</td><td>77.916</td><td>0.26</td><td>78.598</td><td>0.165</td></tr>\n",
       "<tr><td>2019</td><td>7</td><td>79.074</td><td>0.163</td><td>77.42</td><td>0.205</td><td>78.247</td><td>0.132</td></tr>\n",
       "<tr><td>2019</td><td>8</td><td>nan</td><td>nan</td><td>nan</td><td>nan</td><td>nan</td><td>nan</td></tr>\n",
       "<tr><td>2019</td><td>9</td><td>nan</td><td>nan</td><td>nan</td><td>nan</td><td>nan</td><td>nan</td></tr>\n",
       "<tr><td>2019</td><td>10</td><td>nan</td><td>nan</td><td>nan</td><td>nan</td><td>nan</td><td>nan</td></tr>\n",
       "<tr><td>2019</td><td>11</td><td>nan</td><td>nan</td><td>nan</td><td>nan</td><td>nan</td><td>nan</td></tr>\n",
       "<tr><td>2019</td><td>12</td><td>nan</td><td>nan</td><td>nan</td><td>nan</td><td>nan</td><td>nan</td></tr>\n",
       "</table></div>"
      ],
      "text/plain": [
       "<Table length=288>\n",
       "CCl4ottoyr CCl4ottomon CCl4ottoNHm ... CCl4ottoSHsd CCl4ottoGLm CCl4ottoGLsd\n",
       "  int64       int64      float64   ...   float64      float64     float64   \n",
       "---------- ----------- ----------- ... ------------ ----------- ------------\n",
       "      1996           1         nan ...          nan         nan          nan\n",
       "      1996           2         nan ...          nan         nan          nan\n",
       "      1996           3         nan ...          nan         nan          nan\n",
       "      1996           4     105.318 ...        0.238     104.144        0.155\n",
       "      1996           5     105.032 ...        0.287     103.893        0.174\n",
       "      1996           6     105.327 ...        0.273     104.207        0.191\n",
       "      1996           7      105.25 ...        0.233     104.136        0.147\n",
       "      1996           8     104.855 ...        0.213     103.836        0.161\n",
       "      1996           9     104.909 ...        0.441     103.861        0.254\n",
       "       ...         ...         ... ...          ...         ...          ...\n",
       "      2019           3      79.779 ...        0.317      79.008        0.199\n",
       "      2019           4      79.287 ...        0.209      78.623        0.149\n",
       "      2019           5      79.503 ...        0.374      78.862        0.226\n",
       "      2019           6      79.279 ...         0.26      78.598        0.165\n",
       "      2019           7      79.074 ...        0.205      78.247        0.132\n",
       "      2019           8         nan ...          nan         nan          nan\n",
       "      2019           9         nan ...          nan         nan          nan\n",
       "      2019          10         nan ...          nan         nan          nan\n",
       "      2019          11         nan ...          nan         nan          nan\n",
       "      2019          12         nan ...          nan         nan          nan"
      ]
     },
     "execution_count": 539,
     "metadata": {},
     "output_type": "execute_result"
    }
   ],
   "source": [
    "table"
   ]
  },
  {
   "cell_type": "code",
   "execution_count": 540,
   "id": "1a106945-1e8a-4b99-93a9-cf5413829036",
   "metadata": {},
   "outputs": [
    {
     "data": {
      "text/html": [
       "<div>\n",
       "<style scoped>\n",
       "    .dataframe tbody tr th:only-of-type {\n",
       "        vertical-align: middle;\n",
       "    }\n",
       "\n",
       "    .dataframe tbody tr th {\n",
       "        vertical-align: top;\n",
       "    }\n",
       "\n",
       "    .dataframe thead th {\n",
       "        text-align: right;\n",
       "    }\n",
       "</style>\n",
       "<table border=\"1\" class=\"dataframe\">\n",
       "  <thead>\n",
       "    <tr style=\"text-align: right;\">\n",
       "      <th></th>\n",
       "      <th>year</th>\n",
       "      <th>month</th>\n",
       "      <th>global_mean_concentration</th>\n",
       "      <th>global_sd</th>\n",
       "    </tr>\n",
       "  </thead>\n",
       "  <tbody>\n",
       "    <tr>\n",
       "      <th>3</th>\n",
       "      <td>1996</td>\n",
       "      <td>4</td>\n",
       "      <td>104.144</td>\n",
       "      <td>0.155</td>\n",
       "    </tr>\n",
       "    <tr>\n",
       "      <th>4</th>\n",
       "      <td>1996</td>\n",
       "      <td>5</td>\n",
       "      <td>103.893</td>\n",
       "      <td>0.174</td>\n",
       "    </tr>\n",
       "    <tr>\n",
       "      <th>5</th>\n",
       "      <td>1996</td>\n",
       "      <td>6</td>\n",
       "      <td>104.207</td>\n",
       "      <td>0.191</td>\n",
       "    </tr>\n",
       "    <tr>\n",
       "      <th>6</th>\n",
       "      <td>1996</td>\n",
       "      <td>7</td>\n",
       "      <td>104.136</td>\n",
       "      <td>0.147</td>\n",
       "    </tr>\n",
       "    <tr>\n",
       "      <th>7</th>\n",
       "      <td>1996</td>\n",
       "      <td>8</td>\n",
       "      <td>103.836</td>\n",
       "      <td>0.161</td>\n",
       "    </tr>\n",
       "    <tr>\n",
       "      <th>...</th>\n",
       "      <td>...</td>\n",
       "      <td>...</td>\n",
       "      <td>...</td>\n",
       "      <td>...</td>\n",
       "    </tr>\n",
       "    <tr>\n",
       "      <th>278</th>\n",
       "      <td>2019</td>\n",
       "      <td>3</td>\n",
       "      <td>79.008</td>\n",
       "      <td>0.199</td>\n",
       "    </tr>\n",
       "    <tr>\n",
       "      <th>279</th>\n",
       "      <td>2019</td>\n",
       "      <td>4</td>\n",
       "      <td>78.623</td>\n",
       "      <td>0.149</td>\n",
       "    </tr>\n",
       "    <tr>\n",
       "      <th>280</th>\n",
       "      <td>2019</td>\n",
       "      <td>5</td>\n",
       "      <td>78.862</td>\n",
       "      <td>0.226</td>\n",
       "    </tr>\n",
       "    <tr>\n",
       "      <th>281</th>\n",
       "      <td>2019</td>\n",
       "      <td>6</td>\n",
       "      <td>78.598</td>\n",
       "      <td>0.165</td>\n",
       "    </tr>\n",
       "    <tr>\n",
       "      <th>282</th>\n",
       "      <td>2019</td>\n",
       "      <td>7</td>\n",
       "      <td>78.247</td>\n",
       "      <td>0.132</td>\n",
       "    </tr>\n",
       "  </tbody>\n",
       "</table>\n",
       "<p>280 rows × 4 columns</p>\n",
       "</div>"
      ],
      "text/plain": [
       "     year  month  global_mean_concentration  global_sd\n",
       "3    1996      4                    104.144      0.155\n",
       "4    1996      5                    103.893      0.174\n",
       "5    1996      6                    104.207      0.191\n",
       "6    1996      7                    104.136      0.147\n",
       "7    1996      8                    103.836      0.161\n",
       "..    ...    ...                        ...        ...\n",
       "278  2019      3                     79.008      0.199\n",
       "279  2019      4                     78.623      0.149\n",
       "280  2019      5                     78.862      0.226\n",
       "281  2019      6                     78.598      0.165\n",
       "282  2019      7                     78.247      0.132\n",
       "\n",
       "[280 rows x 4 columns]"
      ]
     },
     "execution_count": 540,
     "metadata": {},
     "output_type": "execute_result"
    }
   ],
   "source": [
    "df_means = table.to_pandas()[[\"CCl4ottoyr\", \"CCl4ottomon\", \"CCl4ottoGLm\",\"CCl4ottoGLsd\"]]\n",
    "df = df_means.dropna()\n",
    "df.columns = [\"year\", \"month\", \"global_mean_concentration\", \"global_sd\"]\n",
    "df"
   ]
  },
  {
   "cell_type": "code",
   "execution_count": 574,
   "id": "8ac99a5a-dad9-485c-a7ef-c222ed709cc6",
   "metadata": {},
   "outputs": [],
   "source": [
    "df.loc[:, 'fractional_year'] = df['year'] + (df['month'] - 1) / 12"
   ]
  },
  {
   "cell_type": "code",
   "execution_count": 576,
   "id": "e7b58126-34a1-493b-bee4-4f51b896ddc3",
   "metadata": {},
   "outputs": [],
   "source": [
    "x_time = df[\"fractional_year\"]\n",
    "y_mean = df[\"global_mean_concentration\"][~np.isnan(df[\"global_mean_concentration\"])]\n",
    "error = df[\"global_sd\"]"
   ]
  },
  {
   "cell_type": "code",
   "execution_count": 578,
   "id": "ff67f459-aaec-4bb0-b30b-86103c4decc2",
   "metadata": {},
   "outputs": [
    {
     "data": {
      "text/html": [
       "<div>\n",
       "<style scoped>\n",
       "    .dataframe tbody tr th:only-of-type {\n",
       "        vertical-align: middle;\n",
       "    }\n",
       "\n",
       "    .dataframe tbody tr th {\n",
       "        vertical-align: top;\n",
       "    }\n",
       "\n",
       "    .dataframe thead th {\n",
       "        text-align: right;\n",
       "    }\n",
       "</style>\n",
       "<table border=\"1\" class=\"dataframe\">\n",
       "  <thead>\n",
       "    <tr style=\"text-align: right;\">\n",
       "      <th></th>\n",
       "      <th>year</th>\n",
       "      <th>month</th>\n",
       "      <th>global_mean_concentration</th>\n",
       "      <th>global_sd</th>\n",
       "      <th>fractional_year</th>\n",
       "    </tr>\n",
       "  </thead>\n",
       "  <tbody>\n",
       "    <tr>\n",
       "      <th>3</th>\n",
       "      <td>1996</td>\n",
       "      <td>4</td>\n",
       "      <td>104.144</td>\n",
       "      <td>0.155</td>\n",
       "      <td>1996.250000</td>\n",
       "    </tr>\n",
       "    <tr>\n",
       "      <th>4</th>\n",
       "      <td>1996</td>\n",
       "      <td>5</td>\n",
       "      <td>103.893</td>\n",
       "      <td>0.174</td>\n",
       "      <td>1996.333333</td>\n",
       "    </tr>\n",
       "    <tr>\n",
       "      <th>5</th>\n",
       "      <td>1996</td>\n",
       "      <td>6</td>\n",
       "      <td>104.207</td>\n",
       "      <td>0.191</td>\n",
       "      <td>1996.416667</td>\n",
       "    </tr>\n",
       "    <tr>\n",
       "      <th>6</th>\n",
       "      <td>1996</td>\n",
       "      <td>7</td>\n",
       "      <td>104.136</td>\n",
       "      <td>0.147</td>\n",
       "      <td>1996.500000</td>\n",
       "    </tr>\n",
       "    <tr>\n",
       "      <th>7</th>\n",
       "      <td>1996</td>\n",
       "      <td>8</td>\n",
       "      <td>103.836</td>\n",
       "      <td>0.161</td>\n",
       "      <td>1996.583333</td>\n",
       "    </tr>\n",
       "    <tr>\n",
       "      <th>...</th>\n",
       "      <td>...</td>\n",
       "      <td>...</td>\n",
       "      <td>...</td>\n",
       "      <td>...</td>\n",
       "      <td>...</td>\n",
       "    </tr>\n",
       "    <tr>\n",
       "      <th>278</th>\n",
       "      <td>2019</td>\n",
       "      <td>3</td>\n",
       "      <td>79.008</td>\n",
       "      <td>0.199</td>\n",
       "      <td>2019.166667</td>\n",
       "    </tr>\n",
       "    <tr>\n",
       "      <th>279</th>\n",
       "      <td>2019</td>\n",
       "      <td>4</td>\n",
       "      <td>78.623</td>\n",
       "      <td>0.149</td>\n",
       "      <td>2019.250000</td>\n",
       "    </tr>\n",
       "    <tr>\n",
       "      <th>280</th>\n",
       "      <td>2019</td>\n",
       "      <td>5</td>\n",
       "      <td>78.862</td>\n",
       "      <td>0.226</td>\n",
       "      <td>2019.333333</td>\n",
       "    </tr>\n",
       "    <tr>\n",
       "      <th>281</th>\n",
       "      <td>2019</td>\n",
       "      <td>6</td>\n",
       "      <td>78.598</td>\n",
       "      <td>0.165</td>\n",
       "      <td>2019.416667</td>\n",
       "    </tr>\n",
       "    <tr>\n",
       "      <th>282</th>\n",
       "      <td>2019</td>\n",
       "      <td>7</td>\n",
       "      <td>78.247</td>\n",
       "      <td>0.132</td>\n",
       "      <td>2019.500000</td>\n",
       "    </tr>\n",
       "  </tbody>\n",
       "</table>\n",
       "<p>280 rows × 5 columns</p>\n",
       "</div>"
      ],
      "text/plain": [
       "     year  month  global_mean_concentration  global_sd  fractional_year\n",
       "3    1996      4                    104.144      0.155      1996.250000\n",
       "4    1996      5                    103.893      0.174      1996.333333\n",
       "5    1996      6                    104.207      0.191      1996.416667\n",
       "6    1996      7                    104.136      0.147      1996.500000\n",
       "7    1996      8                    103.836      0.161      1996.583333\n",
       "..    ...    ...                        ...        ...              ...\n",
       "278  2019      3                     79.008      0.199      2019.166667\n",
       "279  2019      4                     78.623      0.149      2019.250000\n",
       "280  2019      5                     78.862      0.226      2019.333333\n",
       "281  2019      6                     78.598      0.165      2019.416667\n",
       "282  2019      7                     78.247      0.132      2019.500000\n",
       "\n",
       "[280 rows x 5 columns]"
      ]
     },
     "execution_count": 578,
     "metadata": {},
     "output_type": "execute_result"
    }
   ],
   "source": [
    "df"
   ]
  },
  {
   "cell_type": "code",
   "execution_count": 580,
   "id": "e70556f5-8ab9-425b-a3af-28ecdcd7a3ba",
   "metadata": {},
   "outputs": [
    {
     "data": {
      "image/png": "[encoded data removed]",
      "text/plain": [
       "<Figure size 2000x500 with 1 Axes>"
      ]
     },
     "metadata": {},
     "output_type": "display_data"
    }
   ],
   "source": [
    "plt.figure(figsize=(20, 5))\n",
    "plt.errorbar(x_time, y_mean, yerr=error)\n",
    "plt.xlabel(\"months since 1996\")\n",
    "plt.ylabel(\"global mean concentration\")\n",
    "plt.title(\"global mean concentration over time\")\n",
    "plt.grid()"
   ]
  },
  {
   "cell_type": "code",
   "execution_count": 581,
   "id": "007b640d-ec99-484b-b2fe-521b55d24c70",
   "metadata": {},
   "outputs": [
    {
     "data": {
      "text/plain": [
       "3      104.615592\n",
       "4      104.520088\n",
       "5      104.424584\n",
       "6      104.329081\n",
       "7      104.233577\n",
       "          ...    \n",
       "278     78.352101\n",
       "279     78.256598\n",
       "280     78.161094\n",
       "281     78.065590\n",
       "282     77.970087\n",
       "Name: fractional_year, Length: 280, dtype: float64"
      ]
     },
     "execution_count": 581,
     "metadata": {},
     "output_type": "execute_result"
    }
   ],
   "source": [
    "y_exp"
   ]
  },
  {
   "cell_type": "code",
   "execution_count": 584,
   "id": "9a5b44c0-4082-4964-a8ce-6da2bbade81b",
   "metadata": {},
   "outputs": [
    {
     "data": {
      "text/plain": [
       "[<matplotlib.lines.Line2D at 0x16a3c3aa0>]"
      ]
     },
     "execution_count": 584,
     "metadata": {},
     "output_type": "execute_result"
    },
    {
     "data": {
      "image/png": "[encoded data removed]",
      "text/plain": [
       "<Figure size 640x480 with 1 Axes>"
      ]
     },
     "metadata": {},
     "output_type": "display_data"
    }
   ],
   "source": [
    "def f(x, m, b):\n",
    "    return m*x + b\n",
    "\n",
    "params1, cov1 = fit.curve_fit(f, x_time, y_mean)\n",
    "m = params1[0]\n",
    "b = params1[1]\n",
    "y_exp = f(x_time, m, b)\n",
    "\n",
    "plt.figure()\n",
    "plt.errorbar(x_time, y_mean, yerr=error)\n",
    "plt.plot(x_time, y_exp)"
   ]
  },
  {
   "cell_type": "code",
   "execution_count": 586,
   "id": "1a7d44b3-9e8c-4be3-8c27-6f78a55df3e8",
   "metadata": {},
   "outputs": [
    {
     "data": {
      "text/plain": [
       "0.09422759578076245"
      ]
     },
     "execution_count": 586,
     "metadata": {},
     "output_type": "execute_result"
    }
   ],
   "source": [
    "red_chi_sq = (sum(((y_mean - y_exp)**2)/y_exp))/2\n",
    "red_chi_sq"
   ]
  },
  {
   "cell_type": "code",
   "execution_count": 588,
   "id": "e226ea03-16ac-42a2-b9af-ccf055d32d22",
   "metadata": {},
   "outputs": [
    {
     "data": {
      "text/plain": [
       "<matplotlib.collections.PathCollection at 0x16a3c3e00>"
      ]
     },
     "execution_count": 588,
     "metadata": {},
     "output_type": "execute_result"
    },
    {
     "data": {
      "image/png": "[encoded data removed]",
      "text/plain": [
       "<Figure size 640x480 with 1 Axes>"
      ]
     },
     "metadata": {},
     "output_type": "display_data"
    }
   ],
   "source": [
    "residuals = y_mean - y_exp\n",
    "\n",
    "plt.figure()\n",
    "plt.scatter(x_time, residuals)"
   ]
  },
  {
   "cell_type": "code",
   "execution_count": 605,
   "id": "b328b73e-9c4a-4cfb-b9f9-b834dc4170b6",
   "metadata": {},
   "outputs": [],
   "source": [
    "slope = str(np.round(m, 2))\n",
    "intercept = str(np.round(b, 2))\n",
    "\n",
    "slope_error = str(cov1[0,0])\n",
    "intercept_error = str(cov[1,1])"
   ]
  },
  {
   "cell_type": "code",
   "execution_count": 609,
   "id": "b4f2d511-a0a8-4787-8cce-ddb33343a379",
   "metadata": {},
   "outputs": [
    {
     "name": "stdout",
     "output_type": "stream",
     "text": [
      "Slope = -1.15 ±4.858694516573549e-06\n",
      "Intercept = 2392.4 ±4.3479322661816305e-07\n",
      "Reduced chi squared = 0.09422759578076245\n"
     ]
    }
   ],
   "source": [
    "print(\"Slope =\", slope, \"±\" + slope_error)\n",
    "print(\"Intercept =\", intercept, \"±\" + intercept_error)\n",
    "print(\"Reduced chi squared =\", np.round(red_chi_sq))"
   ]
  },
  {
   "cell_type": "code",
   "execution_count": 613,
   "id": "ca26ab85-c1cd-4035-8845-e7c022bff1af",
   "metadata": {},
   "outputs": [
    {
     "name": "stdout",
     "output_type": "stream",
     "text": [
      "y = -1.15*x + 2392.4\n"
     ]
    }
   ],
   "source": [
    "print(\"y =\", slope + \"*x +\", intercept)"
   ]
  },
  {
   "cell_type": "code",
   "execution_count": null,
   "id": "368d1b5f-62f3-48ec-a28a-29b1da0e9adf",
   "metadata": {},
   "outputs": [],
   "source": []
  }
 ],
 "metadata": {
  "kernelspec": {
   "display_name": "Python [conda env:base] *",
   "language": "python",
   "name": "conda-base-py"
  },
  "language_info": {
   "codemirror_mode": {
    "name": "ipython",
    "version": 3
   },
   "file_extension": ".py",
   "mimetype": "text/x-python",
   "name": "python",
   "nbconvert_exporter": "python",
   "pygments_lexer": "ipython3",
   "version": "3.12.7"
  }
 },
 "nbformat": 4,
 "nbformat_minor": 5
}
