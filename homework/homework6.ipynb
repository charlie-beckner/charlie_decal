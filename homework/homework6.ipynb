{
 "cells": [
  {
   "cell_type": "markdown",
   "id": "a6d5b7a3-de73-4ee2-b727-eecbe7c175cc",
   "metadata": {},
   "source": [
    "**Question 1**"
   ]
  },
  {
   "cell_type": "code",
   "execution_count": 2,
   "id": "1bc2ea29-9fe1-4f9b-b7da-88d53f15bae9",
   "metadata": {},
   "outputs": [],
   "source": [
    "import numpy as np"
   ]
  },
  {
   "cell_type": "code",
   "execution_count": 4,
   "id": "c7f1e8a7-8f8f-4e7a-8ec3-ae8593a8d94f",
   "metadata": {},
   "outputs": [
    {
     "data": {
      "text/plain": [
       "array([[ 2,  3,  5],\n",
       "       [ 4,  6,  8],\n",
       "       [11, 13, 17],\n",
       "       [ 7, 10, 13]])"
      ]
     },
     "execution_count": 4,
     "metadata": {},
     "output_type": "execute_result"
    }
   ],
   "source": [
    "arr = np.array([[2, 3, 5], [4, 6, 8], [11, 13, 17], [7, 10, 13]])\n",
    "arr"
   ]
  },
  {
   "cell_type": "code",
   "execution_count": 55,
   "id": "8f825f8d-2a3b-48f6-b78c-386ccf260c73",
   "metadata": {},
   "outputs": [],
   "source": [
    "import numpy as np\n",
    "\n",
    "def is_prime(num):\n",
    "    if num < 2:\n",
    "        return False\n",
    "    for i in range(2, int(num ** 0.5) + 1):\n",
    "        if num % i == 0:\n",
    "            return False\n",
    "    else:\n",
    "        return True\n",
    "\n",
    "def contains_primes(arr):\n",
    "    rows_with_primes = []\n",
    "    for row in arr:\n",
    "        for num in row:\n",
    "            if is_prime(num):\n",
    "                rows_with_primes.append(row)\n",
    "                break  \n",
    "    return np.array(rows_with_primes)"
   ]
  },
  {
   "cell_type": "code",
   "execution_count": 59,
   "id": "b30bd8de-2438-4f1c-9d58-ca0df3d013ef",
   "metadata": {},
   "outputs": [
    {
     "data": {
      "text/plain": [
       "array([[ 2,  3,  5],\n",
       "       [11, 13, 17],\n",
       "       [ 7, 10, 13]])"
      ]
     },
     "execution_count": 59,
     "metadata": {},
     "output_type": "execute_result"
    }
   ],
   "source": [
    "contains_primes(arr)"
   ]
  },
  {
   "cell_type": "markdown",
   "id": "98a17c69-198b-449d-bea8-f7d6e071e6e1",
   "metadata": {},
   "source": [
    "***"
   ]
  },
  {
   "cell_type": "markdown",
   "id": "55842463-5d3c-4639-b292-bf16643c8016",
   "metadata": {},
   "source": [
    "**Question 2**"
   ]
  },
  {
   "cell_type": "code",
   "execution_count": 87,
   "id": "b2a174d1-fafa-40fa-bee9-91b8e0bd4558",
   "metadata": {},
   "outputs": [
    {
     "data": {
      "text/plain": [
       "array([[0., 0., 0., 0., 0., 0., 0., 0.],\n",
       "       [0., 0., 0., 0., 0., 0., 0., 0.],\n",
       "       [0., 0., 0., 0., 0., 0., 0., 0.],\n",
       "       [0., 0., 0., 0., 0., 0., 0., 0.],\n",
       "       [0., 0., 0., 0., 0., 0., 0., 0.],\n",
       "       [0., 0., 0., 0., 0., 0., 0., 0.],\n",
       "       [0., 0., 0., 0., 0., 0., 0., 0.],\n",
       "       [0., 0., 0., 0., 0., 0., 0., 0.]])"
      ]
     },
     "execution_count": 87,
     "metadata": {},
     "output_type": "execute_result"
    }
   ],
   "source": [
    "def checkerboard():\n",
    "    list = []\n",
    "    for i in range(64):\n",
    "        list = np.append(list, 0)\n",
    "    arr = np.array([list])\n",
    "    board = arr.reshape(8, 8)\n",
    "    return board\n",
    "\n",
    "checkerboard()"
   ]
  },
  {
   "cell_type": "code",
   "execution_count": 167,
   "id": "9555006f-9ba1-4913-8e51-e6d32228c8ae",
   "metadata": {},
   "outputs": [
    {
     "data": {
      "text/plain": [
       "array([[1., 0., 1., 0., 1., 0., 1., 0.],\n",
       "       [0., 0., 0., 0., 0., 0., 0., 0.],\n",
       "       [1., 0., 1., 0., 1., 0., 1., 0.],\n",
       "       [0., 0., 0., 0., 0., 0., 0., 0.],\n",
       "       [1., 0., 1., 0., 1., 0., 1., 0.],\n",
       "       [0., 0., 0., 0., 0., 0., 0., 0.],\n",
       "       [1., 0., 1., 0., 1., 0., 1., 0.],\n",
       "       [0., 0., 0., 0., 0., 0., 0., 0.]])"
      ]
     },
     "execution_count": 167,
     "metadata": {},
     "output_type": "execute_result"
    }
   ],
   "source": [
    "def alternating_odd_checkerboard():\n",
    "    arr = checkerboard()\n",
    "    for i in range(len(arr)):\n",
    "        if i % 2 == 0:\n",
    "            for j in range(len(arr[i])):\n",
    "                if j % 2 == 0:\n",
    "                    arr[i, j] = 1\n",
    "    return arr\n",
    "alternating_checkerboard()"
   ]
  },
  {
   "cell_type": "code",
   "execution_count": 173,
   "id": "e07f4f27-cfb0-4992-9854-8fdef515d295",
   "metadata": {},
   "outputs": [
    {
     "data": {
      "text/plain": [
       "array([[1., 0., 1., 0., 1., 0., 1., 0.],\n",
       "       [0., 1., 0., 1., 0., 1., 0., 1.],\n",
       "       [1., 0., 1., 0., 1., 0., 1., 0.],\n",
       "       [0., 1., 0., 1., 0., 1., 0., 1.],\n",
       "       [1., 0., 1., 0., 1., 0., 1., 0.],\n",
       "       [0., 1., 0., 1., 0., 1., 0., 1.],\n",
       "       [1., 0., 1., 0., 1., 0., 1., 0.],\n",
       "       [0., 1., 0., 1., 0., 1., 0., 1.]])"
      ]
     },
     "execution_count": 173,
     "metadata": {},
     "output_type": "execute_result"
    }
   ],
   "source": [
    "def alternating_even_checkerboard():\n",
    "    arr = alternating_odd_checkerboard()\n",
    "    for i in range(len(arr)):\n",
    "        if i % 2 != 0:\n",
    "            for j in range(len(arr[i])):\n",
    "                if j % 2 != 0:\n",
    "                    arr[i, j] = 1\n",
    "    return arr\n",
    "alternating_even_checkerboard()"
   ]
  },
  {
   "cell_type": "code",
   "execution_count": 179,
   "id": "e2b04073-34d1-4ad3-b9b8-dd3822d88e65",
   "metadata": {},
   "outputs": [
    {
     "data": {
      "text/plain": [
       "array([[0., 1., 0., 1., 0., 1., 0., 1.],\n",
       "       [1., 0., 1., 0., 1., 0., 1., 0.],\n",
       "       [0., 1., 0., 1., 0., 1., 0., 1.],\n",
       "       [1., 0., 1., 0., 1., 0., 1., 0.],\n",
       "       [0., 1., 0., 1., 0., 1., 0., 1.],\n",
       "       [1., 0., 1., 0., 1., 0., 1., 0.],\n",
       "       [0., 1., 0., 1., 0., 1., 0., 1.],\n",
       "       [1., 0., 1., 0., 1., 0., 1., 0.]])"
      ]
     },
     "execution_count": 179,
     "metadata": {},
     "output_type": "execute_result"
    }
   ],
   "source": [
    "def reverse_checkerboard():\n",
    "    arr = checkerboard()\n",
    "    for i in range(len(arr)):\n",
    "        if i % 2 == 0:\n",
    "            for j in range(len(arr[i])):\n",
    "                if j % 2 != 0:\n",
    "                    arr[i, j] = 1\n",
    "        elif i % 2 != 0:\n",
    "            for j in range(len(arr[i])):\n",
    "                if j % 2 == 0:\n",
    "                    arr[i, j] = 1\n",
    "    return arr\n",
    "\n",
    "reverse_checkerboard()    "
   ]
  },
  {
   "cell_type": "markdown",
   "id": "5168f7fc-3aeb-4a45-8eb5-c71a809bb6f0",
   "metadata": {},
   "source": [
    "***"
   ]
  },
  {
   "cell_type": "markdown",
   "id": "67642a4b-d75a-4bbc-a243-715f42aa5acd",
   "metadata": {},
   "source": [
    "**Question 3**"
   ]
  },
  {
   "cell_type": "code",
   "execution_count": 267,
   "id": "7476ff6d-d54f-4b5a-8933-a1d4dffb0180",
   "metadata": {},
   "outputs": [],
   "source": [
    "universe = np.array([\"galaxy\", \"clusters\"])\n",
    "def expansion(arr, spaces):\n",
    "    expanded_words = []\n",
    "    for word in arr:\n",
    "        expanded_word = word[0]\n",
    "        for i in range(1, len(word)):\n",
    "            expanded_word = expanded_word + \" \" * spaces + word[i]  # Insert spaces before each next character\n",
    "        expanded_words.append(expanded_word)\n",
    "    return np.array(expanded_words)"
   ]
  },
  {
   "cell_type": "code",
   "execution_count": 269,
   "id": "b4bfb7ef-19bc-4f53-a899-02b7b7c609f9",
   "metadata": {},
   "outputs": [
    {
     "data": {
      "text/plain": [
       "array(['g a l a x y', 'c l u s t e r s'], dtype='<U15')"
      ]
     },
     "execution_count": 269,
     "metadata": {},
     "output_type": "execute_result"
    }
   ],
   "source": [
    "expansion(universe, 1)"
   ]
  },
  {
   "cell_type": "markdown",
   "id": "47d75117-cbd6-45ac-bf71-f93e19c7de91",
   "metadata": {},
   "source": [
    "***"
   ]
  },
  {
   "cell_type": "markdown",
   "id": "90289fb6-fe62-494f-b906-f68ddcad697f",
   "metadata": {},
   "source": [
    "**Question 4**"
   ]
  },
  {
   "cell_type": "code",
   "execution_count": 277,
   "id": "8d7dba2d-375e-439a-b040-d74c8b271abf",
   "metadata": {},
   "outputs": [
    {
     "data": {
      "text/plain": [
       "array([[1889, 1906, 1846, 1622, 1541],\n",
       "       [ 606, 1647, 1738,  596,  613],\n",
       "       [1138,  547,  573, 1442,  724],\n",
       "       [ 611, 1933, 1863, 1346, 1777],\n",
       "       [ 920, 1108, 1732, 1592,  951]])"
      ]
     },
     "execution_count": 277,
     "metadata": {},
     "output_type": "execute_result"
    }
   ],
   "source": [
    "np.random.seed(123)\n",
    "stars = np.random.randint(500, 2000, (5, 5))\n",
    "stars"
   ]
  },
  {
   "cell_type": "code",
   "execution_count": 291,
   "id": "a11d42f6-72ec-4253-892b-0cf0c84ca343",
   "metadata": {},
   "outputs": [],
   "source": [
    "def secondDimmest(arr):\n",
    "    sorted_arr = np.sort(arr, axis = 0)\n",
    "    return sorted_arr[1]"
   ]
  },
  {
   "cell_type": "code",
   "execution_count": 293,
   "id": "eff64e99-81ba-4cdc-a1ec-ed2384fe7d64",
   "metadata": {},
   "outputs": [
    {
     "data": {
      "text/plain": [
       "array([ 611, 1108, 1732, 1346,  724])"
      ]
     },
     "execution_count": 293,
     "metadata": {},
     "output_type": "execute_result"
    }
   ],
   "source": [
    "secondDimmest(stars)"
   ]
  }
 ],
 "metadata": {
  "kernelspec": {
   "display_name": "Python [conda env:base] *",
   "language": "python",
   "name": "conda-base-py"
  },
  "language_info": {
   "codemirror_mode": {
    "name": "ipython",
    "version": 3
   },
   "file_extension": ".py",
   "mimetype": "text/x-python",
   "name": "python",
   "nbconvert_exporter": "python",
   "pygments_lexer": "ipython3",
   "version": "3.12.7"
  }
 },
 "nbformat": 4,
 "nbformat_minor": 5
}
